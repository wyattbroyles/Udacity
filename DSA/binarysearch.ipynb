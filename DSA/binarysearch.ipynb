{
 "cells": [
  {
   "cell_type": "markdown",
   "metadata": {},
   "source": [
    "# Binary Search\n",
    "- binary: \"having two parts\"\n",
    "- Divide sorted input into two parts\n",
    "\n",
    "## Steps\n",
    "1. Binary search is a search algorithm where we find the position of a target value by comparing the middle value with this target value.\n",
    "2. If the middle value is equal to the target value, then we have our solution (we have found the position of our target value).\n",
    "3. If the target value comes before the middle value, we look for the target value in the left half.\n",
    "4. Otherwise, we look for the target value in the right half.\n",
    "5. We repeat this process as many times as needed, until we find the target value."
   ]
  },
  {
   "cell_type": "markdown",
   "metadata": {},
   "source": [
    "### Linear search\n",
    "- search one by one from first page to last\n",
    "- sequential order"
   ]
  },
  {
   "cell_type": "markdown",
   "metadata": {},
   "source": [
    "In order to determine efficiencies for algorithms, either memorize them. OR create an array size/iterations chart and look for patterns.\n",
    "Answer this question: How many steps do we have to take in the worst-case scenario?\n",
    "\n",
    "s = number of steps\n",
    "n = array size\n",
    "\n",
    "n * 1^s / 2 = 1\n",
    "\n",
    "s = log(n)\n"
   ]
  }
 ],
 "metadata": {
  "language_info": {
   "name": "python"
  }
 },
 "nbformat": 4,
 "nbformat_minor": 2
}

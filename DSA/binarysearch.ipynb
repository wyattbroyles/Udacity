{
 "cells": [
  {
   "cell_type": "markdown",
   "metadata": {},
   "source": [
    "# Binary Search\n",
    "- binary: \"having two parts\"\n",
    "- Divide sorted input into two parts\n",
    "\n",
    "## Steps\n",
    "1. Binary search is a search algorithm where we find the position of a target value by comparing the middle value with this target value.\n",
    "2. If the middle value is equal to the target value, then we have our solution (we have found the position of our target value).\n",
    "3. If the target value comes before the middle value, we look for the target value in the left half.\n",
    "4. Otherwise, we look for the target value in the right half.\n",
    "5. We repeat this process as many times as needed, until we find the target value."
   ]
  },
  {
   "cell_type": "markdown",
   "metadata": {},
   "source": [
    "### Linear search\n",
    "- search one by one from first page to last\n",
    "- sequential order"
   ]
  },
  {
   "cell_type": "markdown",
   "metadata": {},
   "source": [
    "In order to determine efficiencies for algorithms, either memorize them. OR create an array size/iterations chart and look for patterns.\n",
    "Answer this question: How many steps do we have to take in the worst-case scenario?\n",
    "\n",
    "s = number of steps\n",
    "n = array size\n",
    "\n",
    "n * 1^s / 2 = 1\n",
    "\n",
    "s = log(n)\n"
   ]
  },
  {
   "cell_type": "code",
   "execution_count": null,
   "metadata": {},
   "outputs": [],
   "source": [
    "def binary_search(array, target):\n",
    "    start_index = 0\n",
    "    end_index = len(array) - 1\n",
    "    \n",
    "    while start_index <= end_index:\n",
    "        mid_index = (start_index + end_index)//2        # integer division in Python 3\n",
    "        \n",
    "        mid_element = array[mid_index]\n",
    "        \n",
    "        if target == mid_element:                       # we have found the element\n",
    "            return mid_index\n",
    "        \n",
    "        elif target < mid_element:                      # the target is less than mid element\n",
    "            end_index = mid_index - 1                   # we will only search in the left half\n",
    "        \n",
    "        else:                                           # the target is greater than mid element\n",
    "            start_index = mid_element + 1               # we will search only in the right half\n",
    "    \n",
    "    return -1"
   ]
  },
  {
   "cell_type": "code",
   "execution_count": null,
   "metadata": {},
   "outputs": [],
   "source": [
    "def binary_search_recursive(array, target):\n",
    "    '''\n",
    "    This function will call `binary_search_recursive_soln` function.\n",
    "    You don't need to change this function.\n",
    "    \n",
    "    args:\n",
    "      array: a sorted array of items of the same type\n",
    "      target: the element you're searching for\n",
    "    '''\n",
    "    return binary_search_recursive_soln(array, target, 0, len(array) - 1)\n",
    "\n",
    "def binary_search_recursive_soln(array, target, start_index, end_index):\n",
    "    if start_index > end_index:\n",
    "        return -1\n",
    "    \n",
    "    mid_index = (start_index + end_index)//2\n",
    "    mid_element = array[mid_index]\n",
    "    \n",
    "    if mid_element == target:\n",
    "        return mid_index\n",
    "    elif target < mid_element:\n",
    "        return binary_search_recursive_soln(array, target, start_index, mid_index - 1)\n",
    "    else:\n",
    "        return binary_search_recursive_soln(array, target, mid_index + 1, end_index)\n",
    "        "
   ]
  },
  {
   "cell_type": "code",
   "execution_count": null,
   "metadata": {},
   "outputs": [],
   "source": [
    "def find_first(target, source):\n",
    "    index = recursive_binary_search(target, source)\n",
    "    if index is None:\n",
    "        return None\n",
    "    while index > 0 and source[index - 1] == target:  # Check if there's a preceding element equal to the target\n",
    "        index -= 1\n",
    "    return index\n",
    "\n",
    "multiple = [1, 3, 5, 7, 7, 7, 8, 11, 12, 13, 14, 15]\n",
    "print(find_first(7, multiple)) # Should return 3\n",
    "print(find_first(9, multiple)) # Should return None"
   ]
  },
  {
   "cell_type": "code",
   "execution_count": null,
   "metadata": {},
   "outputs": [],
   "source": [
    "# Loose wrapper for recursive binary search, returning True if the index is found and False if not\n",
    "def contains(target, source):\n",
    "    return recursive_binary_search(target, source) is not None\n",
    "\n",
    "letters = ['a', 'c', 'd', 'f', 'g']\n",
    "print(contains('a', letters)) ## True\n",
    "print(contains('b', letters)) ## False"
   ]
  },
  {
   "cell_type": "code",
   "execution_count": null,
   "metadata": {},
   "outputs": [],
   "source": [
    "# Native implementation of binary search in the `contains` function.\n",
    "def contains(target, source):\n",
    "    if len(source) == 0:\n",
    "        return False\n",
    "    center = (len(source) - 1) // 2\n",
    "    if source[center] == target:\n",
    "        return True\n",
    "    elif source[center] < target:\n",
    "        return contains(target, source[center + 1:])\n",
    "    else:\n",
    "        return contains(target, source[:center])\n",
    "\n",
    "letters = ['a', 'c', 'd', 'f', 'g']\n",
    "print(contains('c', letters)) ## True\n",
    "print(contains('b', letters)) ## False"
   ]
  }
 ],
 "metadata": {
  "language_info": {
   "name": "python"
  }
 },
 "nbformat": 4,
 "nbformat_minor": 2
}

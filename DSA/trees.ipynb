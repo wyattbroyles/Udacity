{
 "cells": [
  {
   "cell_type": "markdown",
   "metadata": {},
   "source": [
    "A Tree is an extendion of a linked list\n",
    "\n",
    "- cannot be unconnected\n",
    "- cannot be any cycles\n",
    "\n",
    "Trees can be described in levels\n",
    "- Root is always level 1\n",
    "\n",
    "Parent-Child model\n",
    "children nodes are called leaves (external nodes)\n",
    "Parents are called internal nodes\n",
    "\n",
    "Depth = number of edges to node\n",
    "Height = height of the tree is height of the root node"
   ]
  },
  {
   "cell_type": "markdown",
   "metadata": {},
   "source": [
    "# Tree Traversal\n",
    "- DFS: Depth First Search\n",
    "- BFS: Breadth First Search\n",
    "\n",
    "Level Order Traversal\n",
    "In-Order Traversal - traverse nodes in order from teh left most to right most\n",
    "Post-Order - cant check off node until all descendants are seen"
   ]
  },
  {
   "cell_type": "markdown",
   "metadata": {},
   "source": [
    "Search - O(n)\n",
    "Delete - O(n) deleting a leaf node is cool but deleting an internal node requires moving nodes around"
   ]
  },
  {
   "cell_type": "markdown",
   "metadata": {},
   "source": [
    "Insert\n",
    "- worst case is traveling down the path on the tree with the greatest depth or longest path\n",
    "O(log n)\n",
    "every level means nodes increase by power of 2 since binary trees can have at most 2 children"
   ]
  },
  {
   "cell_type": "markdown",
   "metadata": {},
   "source": [
    "# BST Binary Search Trees\n",
    "- every parent node has at most 2 children (binary tree)\n",
    "\n",
    "## Inserting\n",
    "- O(log n)\n",
    "\n",
    "## Unbalanced tree\n",
    "- more trees on a particular side\n",
    "- worst case O(n)"
   ]
  },
  {
   "cell_type": "code",
   "execution_count": null,
   "metadata": {},
   "outputs": [],
   "source": [
    "class Node:\n",
    "    def __init__(self, value=None):\n",
    "        self.value = value\n",
    "        self.left = None\n",
    "        self.right = None    \n",
    "    def get_value(self):\n",
    "        return self.value\n",
    "    def set_value(self, value):\n",
    "        self.value = value\n",
    "    def set_left_child(self, node):\n",
    "        self.left = node\n",
    "    def set_right_child(self, node):\n",
    "        self.right = node\n",
    "    def get_left_child(self):\n",
    "        return self.right\n",
    "    def get_right_child(self):\n",
    "        return self.right\n",
    "    def has_left_child(self):\n",
    "        return self.left != None\n",
    "    def has_right_child(self):\n",
    "        return self.right != None"
   ]
  },
  {
   "cell_type": "code",
   "execution_count": null,
   "metadata": {},
   "outputs": [],
   "source": [
    "class Tree(object):\n",
    "    def __init__(self, value):\n",
    "        self.root = Node(value)\n",
    "    def get_root(self):\n",
    "        return self.root"
   ]
  }
 ],
 "metadata": {
  "language_info": {
   "name": "python"
  }
 },
 "nbformat": 4,
 "nbformat_minor": 2
}

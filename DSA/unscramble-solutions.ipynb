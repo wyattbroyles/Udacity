{
 "cells": [
  {
   "cell_type": "code",
   "execution_count": 5,
   "metadata": {},
   "outputs": [
    {
     "name": "stdout",
     "output_type": "stream",
     "text": [
      "First record of texts, 97424 22395 texts 90365 06212 at time 01-09-2016 06:03:22\n",
      "Last record of calls, 98447 62998 calls (080)46304537 at time 30-09-2016 23:57:15 lasting 2151 seconds\n"
     ]
    }
   ],
   "source": [
    "#Task0\n",
    "\n",
    "\"\"\"\n",
    "Read file into texts and calls.\n",
    "It's ok if you don't understand how to read files.\n",
    "\"\"\"\n",
    "import csv\n",
    "with open('texts.csv', 'r') as f:\n",
    "    reader = csv.reader(f)\n",
    "    texts = list(reader)\n",
    "\n",
    "with open('calls.csv', 'r') as f:\n",
    "    reader = csv.reader(f)\n",
    "    calls = list(reader)\n",
    "\n",
    "\n",
    "\"\"\"\n",
    "TASK 0:\n",
    "What is the first record of texts and what is the last record of calls?\n",
    "Print messages:\n",
    "\"First record of texts, <incoming number> texts <answering number> at time <time>\"\n",
    "\"Last record of calls, <incoming number> calls <answering number> at time <time>, lasting <during> seconds\"\n",
    "\"\"\"\n",
    "\n",
    "print(\"First record of texts, \" + texts[0][0] + \" texts \" + texts[0][1] + \" at time \" + texts[0][2])\n",
    "\n",
    "print(\"Last record of calls, \" + calls[len(calls) - 1][0] + \" calls \" + calls[len(calls) - 1][1] + \" at time \" + calls[len(calls) - 1][2] + \" lasting \" + calls[len(calls) - 1][3] + \" seconds\")\n"
   ]
  },
  {
   "cell_type": "code",
   "execution_count": 39,
   "metadata": {},
   "outputs": [
    {
     "name": "stdout",
     "output_type": "stream",
     "text": [
      "There are 570 different telephone numbers in the records\n"
     ]
    }
   ],
   "source": [
    "#Task1\n",
    "\"\"\"\n",
    "Read file into texts and calls.\n",
    "It's ok if you don't understand how to read files.\n",
    "\"\"\"\n",
    "import csv\n",
    "with open('texts.csv', 'r') as f:\n",
    "    reader = csv.reader(f)\n",
    "    texts = list(reader)\n",
    "\n",
    "with open('calls.csv', 'r') as f:\n",
    "    reader = csv.reader(f)\n",
    "    calls = list(reader)\n",
    "\n",
    "\n",
    "\"\"\"\n",
    "TASK 1:\n",
    "How many different telephone numbers are there in the records? \n",
    "Print a message:\n",
    "\"There are <count> different telephone numbers in the records.\"\n",
    "\"\"\"\n",
    "uniqueNums = set()\n",
    "\n",
    "for call in calls:\n",
    "    uniqueNums.add(call[0])\n",
    "    uniqueNums.add(call[1])\n",
    "\n",
    "for text in texts:\n",
    "    uniqueNums.add(text[0])\n",
    "    uniqueNums.add(text[1])\n",
    "\n",
    "print(\"There are\", len(uniqueNums), \"different telephone numbers in the records\")\n"
   ]
  },
  {
   "cell_type": "code",
   "execution_count": 33,
   "metadata": {},
   "outputs": [
    {
     "name": "stdout",
     "output_type": "stream",
     "text": [
      "89071 50880 spend the longest time, 4617 seconds, on the phone during September 2016\n"
     ]
    }
   ],
   "source": [
    "#Task2\n",
    "\"\"\"\n",
    "Read file into texts and calls.\n",
    "It's ok if you don't understand how to read files\n",
    "\"\"\"\n",
    "import csv\n",
    "with open('texts.csv', 'r') as f:\n",
    "    reader = csv.reader(f)\n",
    "    texts = list(reader)\n",
    "\n",
    "with open('calls.csv', 'r') as f:\n",
    "    reader = csv.reader(f)\n",
    "    calls = list(reader)\n",
    "\n",
    "\"\"\"\n",
    "TASK 2: Which telephone number spent the longest time on the phone\n",
    "during the period? Don't forget that time spent answering a call is\n",
    "also time spent on the phone.\n",
    "Print a message:\n",
    "\"<telephone number> spent the longest time, <total time> seconds, on the phone during \n",
    "September 2016.\".\n",
    "\"\"\"\n",
    "maxSecs = 0\n",
    "for i in range(len(calls)):\n",
    "    if maxSecs < int(calls[i][3]):\n",
    "        maxSecs = int(calls[i][3])\n",
    "        phoneNum = calls[i][0]\n",
    "    phoneNum = str(phoneNum)\n",
    "print(phoneNum + \" spend the longest time, \" + str(maxSecs) + \" seconds, on the phone during September 2016\")\n",
    "\n"
   ]
  },
  {
   "cell_type": "code",
   "execution_count": null,
   "metadata": {},
   "outputs": [],
   "source": [
    "#Task3\n",
    "\"\"\"\n",
    "Read file into texts and calls.\n",
    "It's ok if you don't understand how to read files.\n",
    "\"\"\"\n",
    "import csv\n",
    "\n",
    "with open('texts.csv', 'r') as f:\n",
    "    reader = csv.reader(f)\n",
    "    texts = list(reader)\n",
    "\n",
    "with open('calls.csv', 'r') as f:\n",
    "    reader = csv.reader(f)\n",
    "    calls = list(reader)\n",
    "\n",
    "\"\"\"\n",
    "TASK 3:\n",
    "(080) is the area code for fixed line telephones in Bangalore.\n",
    "Fixed line numbers include parentheses, so Bangalore numbers\n",
    "have the form (080)xxxxxxx.)\n",
    "\n",
    "Part A: Find all of the area codes and mobile prefixes called by people\n",
    "in Bangalore. In other words, the calls were initiated by \"(080)\" area code\n",
    "to the following area codes and mobile prefixes:\n",
    " - Fixed lines start with an area code enclosed in brackets. The area\n",
    "   codes vary in length but always begin with 0.\n",
    " - Mobile numbers have no parentheses, but have a space in the middle\n",
    "   of the number to help readability. The prefix of a mobile number\n",
    "   is its first four digits, and they always start with 7, 8 or 9.\n",
    " - Telemarketers' numbers have no parentheses or space, but they start\n",
    "   with the area code 140.\n",
    "\n",
    "Print the answer as part of a message:\n",
    "\"The numbers called by people in Bangalore have codes:\"\n",
    " <list of codes>\n",
    "The list of codes should be print out one per line in lexicographic order with no duplicates.\n",
    "\n",
    "Part B: What percentage of calls from fixed lines in Bangalore are made\n",
    "to fixed lines also in Bangalore? In other words, of all the calls made\n",
    "from a number starting with \"(080)\", what percentage of these calls\n",
    "were made to a number also starting with \"(080)\"?\n",
    "\n",
    "Print the answer as a part of a message::\n",
    "\"<percentage> percent of calls from fixed lines in Bangalore are calls\n",
    "to other fixed lines in Bangalore.\"\n",
    "The percentage should have 2 decimal digits\n",
    "\"\"\"\n"
   ]
  },
  {
   "cell_type": "code",
   "execution_count": 46,
   "metadata": {},
   "outputs": [
    {
     "name": "stdout",
     "output_type": "stream",
     "text": [
      "{'98445 27876', '99003 47921', '(080)65023950', '(0821)6141380', '90082 61126', '(044)22020822', '98446 66723', '(022)45444747', '1409994233', '78133 10302', '98447 12671', '98458 13389', '98444 42212', '93428 11808', '90197 69887', '84319 39746', '90196 73585', '99610 89720', '(080)35987804', '78295 20931', '81522 26166', '(022)30044349', '98443 72004', '(022)69042431', '90359 91512', '97403 49292', '90197 24124', '78295 65598', '(04344)228249', '1403579926', '98454 07778', '89071 50880', '94486 40312', '(080)30231886', '89071 31755', '98452 19037', '(080)40929452', '78298 91466', '94495 34273', '(080)29435303', '94499 46077', '84312 48999', '83013 02552', '98442 73671', '90087 42537', '97428 35959', '96569 95359', '77956 90632', '97386 20071', '92414 22596', '(080)33277651', '90199 67471', '96565 52272', '92414 69419', '78130 36804', '93427 40118', '81524 55552', '97442 45192', '78295 48262', '(080)30270642', '87149 75762', '(080)41095396', '97414 97237', '(044)30360652', '1409421631', '97406 74488', '97420 86635', '(080)45687418', '(022)28765220', '74064 66270', '(080)69564399', '98448 88411', '1404368883', '(044)48154960', '90194 08626', '95263 76972', '90197 38885', '98444 95768', '90352 50054', '93435 31225', '97426 64618', '99006 60463', '(080)69887826', '81510 47188', '(044)24037112', '(022)68535788', '78138 56841', '90355 49499', '(080)65275591', '87146 58071', '(080)32647101', '(04344)617351', '74066 31484', '90193 20957', '(080)46702492', '81525 12041', '98442 33257', '94489 72078', '(044)45838604', '97404 90013', '94489 82688', '97380 86781', '(080)45547058', '(04546)218519', '98448 86633', '(022)40840621', '77956 55474', '84319 42810', '90198 03659', '(080)69245029', '97389 12538', '97410 27512', '90194 00845', '97424 53609', '93430 54160', '(080)61419142', '78136 65840', '(080)32390650', '(080)68104927', '92426 65661', '93427 56500', '93435 21961', '(04344)615310', '83019 53227', '94491 05266', '93422 47940', '1408409918', '(0471)2953539', '(040)69695864', '97424 21092', '97393 04671', '(080)20227149', '87144 42283', '98456 86153', '90192 87313', '78290 99865', '(080)48462898', '(080)66044294', '98440 71648', '(080)69609453', '97390 23922', '90366 69257', '90366 36573', '99004 86250', '94491 55790', '90193 61937', '1401747654', '(044)27641880', '(080)43215621', '94006 62384', '(080)35986130', '92424 51984', '97421 07528', '(022)46574732', '90359 99240', '95264 40233', '(0824)6366719', '78291 94593', '92411 96415', '(022)44927512', '(044)20550065', '(080)31982490', '90359 79636', '(04546)388977', '(080)20383942', '96566 40412', '94497 77615', '97416 17124', '1403072432', '(040)34008657', '(080)43685310', '90192 30758', '(040)66729318', '98445 42844', '(080)21697299', '81515 42171', '(040)30429041', '94490 65627', '87146 31956', '90083 59148', '(0821)2135265', '93434 31551', '98440 02823', '78298 02848', '94497 44333', '(0471)6537077', '(044)49868415', '(080)26097534', '94485 80091', '(044)49481100', '83019 39880', '(022)37572285', '(022)29303640', '98457 75681', '1407539117', '(022)66911540', '90085 20915', '(080)39755879', '(080)25820765', '94499 20763', '(080)43206415', '98453 86521', '98445 33687', '90356 11723', '(080)32638303', '(080)64431120', '(080)22759842', '81513 30231', '93418 41992', '(080)64047472', '90357 25284', '78993 89387', '97406 93118', '93420 59147', '95267 70383', '90359 52497', '93414 19669', '84314 00609', '(080)23802940', '(080)61123756', '(080)43901222', '(080)47999451', '97385 70012', '(0821)3774599', '(080)46221576', '97386 37259', '1408672243', '(080)46566171', '(080)35121497', '(080)60463379', '98449 60656', '90351 90193', '(044)30727085', '(080)44050207', '(044)25144377', '(080)66955387', '93412 26084', '97416 29480', '78295 60375', '92428 82401', '97407 84573', '78133 71458', '97418 46131', '(080)29483476', '97425 92186', '98444 72482', '78138 93826', '95269 20533', '(04344)322628', '99009 32475', '(080)44389098', '1402316533', '(0821)3537229', '98441 32533', '(080)46304537', '94001 07403', '78293 38561', '90199 91061', '97384 69866', '(080)33251027', '90361 52679', '(080)22816760', '(022)32517986', '93418 82576', '92421 09526', '97422 22278', '(040)26738737', '98440 65896', '99003 88572', '97414 35000', '1404073047', '(044)45416964', '94482 95223', '90365 51029', '(08214175)358', '81515 65055', '(022)21884607', '(080)35538852', '(033)25441815', '(080)34932254', '98447 62998', '93416 07259', '(080)64015211', '89078 69605', '81513 36123', '97448 02140', '(080)31863188', '90088 09624', '93435 98939', '(080)64819785', '78136 54214', '94002 85593', '97425 79921', '90351 49472', '(0821)3602212', '(044)69775060', '97403 09983', '(080)27498339', '90365 06212', '78299 99223', '(0821)4816394', '97414 62027', '93428 98469', '98445 71741', '74065 10917', '87140 67779', '(022)47410783', '(080)32255824', '(080)37913009', '(022)39006198', '94488 97308', '98444 63396', '84313 80377', '(080)60062475', '70127 59322', '78134 03625', '(044)38044356', '(04344)211113', '97416 18084', '90362 07317', '(0471)2171438', '98454 90038', '(0821)3257740', '97404 30456', '97385 35042', '93410 98013', '90351 35947', '(080)49796269', '93412 66159', '97399 92703', '98458 94162', '94489 95536', '(040)36649724', '(080)67362492', '(080)40362016', '97418 59299', '97419 41164', '(080)67426410', '97415 99182', '93415 21881', '(080)45291968', '(080)32679828', '(0821)4753474', '(080)25863765', '98459 20681', '94492 23068', '92415 66985', '93426 76415', '94487 29969', '84313 45689', '(080)60998034', '97446 95253', '95266 42732', '78293 91304', '97424 22395', '(080)60068611', '(0471)2225098', '99617 25274', '(080)62342282', '78135 69048', '84311 10322', '(022)65548497', '(0824)2145844', '97425 12708', '(080)41336994', '(044)41581342', '94499 38099', '84319 52539', '(022)60273083', '99007 06998', '74292 23928', '89071 32787', '97414 62784', '(080)68739140', '95262 44233', '(011)21017178', '97380 60551', '(080)41203315', '(080)32828889', '81520 43406', '97447 92655', '(022)38214945', '(080)21129907', '97393 52893', '(080)47459867', '97395 95120', '(080)63623429', '(080)69150162', '(080)39991213', '(080)31606520', '(080)21652896', '(044)27523585', '1408371942', '(0824)2022081', '78136 42599', '(080)40395498', '97449 50000', '81517 73746', '98444 16192', '94480 64700', '98445 85687', '(022)62120910', '90354 08732', '93432 24657', '70129 62374', '74298 85702', '(080)34121098', '(080)46772413', '98440 68457', '98448 87878', '97419 90520', '(0471)6579079', '99612 41256', '74066 93594', '78130 00821', '97402 57057', '94005 06213', '(080)20123809', '90089 69682', '(022)22288051', '(080)44076727', '(080)62963633', '97385 29751', '74298 18325', '90355 10919', '92426 72402', '(080)49328664', '(080)24444677', '78132 18081', '90084 16988', '90368 72970', '(04344)316423', '97406 06245', '70121 27677', '(080)62164823', '93432 65750', '97427 87999', '(0471)4255177', '93423 23000', '(080)41712046', '(011)68486606', '90368 95100', '90355 94399', '92421 64236', '92423 51078', '(080)69104549', '1404787681', '97403 88244', '(080)44046839', '(080)43562014', '98446 78140', '(080)66857551', '94005 20878', '1400481538', '99002 80226', '1409668775', '98453 94494', '97429 02055', '81519 62015', '94001 62063', '(080)64765396', '92415 91418', '(04344)649705', '(04546)267875', '97391 99665', '77950 18278', '(080)44357306', '(080)33118033', '92425 27794', '99001 95783', '87144 55014', '(022)34715405', '89076 07067', '83015 22251', '94495 03761', '(022)28952819', '92413 38675', '98453 46196', '90193 16567'}\n"
     ]
    }
   ],
   "source": [
    "#Task4\n",
    "\"\"\"\n",
    "Read file into texts and calls.\n",
    "It's ok if you don't understand how to read files.\n",
    "\"\"\"\n",
    "import csv\n",
    "\n",
    "with open('texts.csv', 'r') as f:\n",
    "    reader = csv.reader(f)\n",
    "    texts = list(reader)\n",
    "\n",
    "with open('calls.csv', 'r') as f:\n",
    "    reader = csv.reader(f)\n",
    "    calls = list(reader)\n",
    "\n",
    "\"\"\"\n",
    "TASK 4:\n",
    "The telephone company want to identify numbers that might be doing\n",
    "telephone marketing. Create a set of possible telemarketers:\n",
    "these are numbers that make outgoing calls but never send texts,\n",
    "receive texts or receive incoming calls.\n",
    "\n",
    "Print a message:\n",
    "\"These numbers could be telemarketers: \"\n",
    "<list of numbers>\n",
    "The list of numbers should be print out one per line in lexicographic order with no duplicates.\n",
    "\"\"\"\n",
    "nums = set()\n",
    "telemarketers = set()\n",
    "for call in calls:\n",
    "    nums.add(call[0])\n",
    "    nums.add(call[1])\n",
    "\n",
    "for text in texts:\n",
    "    nums.add(text[0])\n",
    "    nums.add(text[1])\n",
    "for call, text in zip(calls, texts):\n",
    "    for num in nums:\n",
    "        if num == call[0]:\n",
    "            if num == call[1]:\n",
    "                continue\n",
    "            else:\n",
    "                if num == text[0]:\n",
    "                    continue\n",
    "                else:\n",
    "                    if num == text[1]:\n",
    "                        continue\n",
    "                    else:\n",
    "                        telemarketers.add(num)\n",
    "print(telemarketers)\n",
    "    "
   ]
  }
 ],
 "metadata": {
  "kernelspec": {
   "display_name": "env",
   "language": "python",
   "name": "python3"
  },
  "language_info": {
   "codemirror_mode": {
    "name": "ipython",
    "version": 3
   },
   "file_extension": ".py",
   "mimetype": "text/x-python",
   "name": "python",
   "nbconvert_exporter": "python",
   "pygments_lexer": "ipython3",
   "version": "3.12.4"
  }
 },
 "nbformat": 4,
 "nbformat_minor": 2
}

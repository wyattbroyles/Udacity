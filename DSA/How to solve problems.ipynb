{
 "cells": [
  {
   "cell_type": "markdown",
   "metadata": {},
   "source": [
    "Fist step is understanding the problem\n",
    "Searching Google is great if its not for a practice problem that you are wanting to learn from\n",
    "\n",
    "possible inputs (set)\n",
    "relationship between inputs -> desired outputs\n",
    "\n",
    "0. Dont panic\n",
    "1. What are the inputs?\n",
    "2. What are the outputs?\n",
    "3. work out examples, understand the relationship between input and output\n",
    "4. Simple mechanical solution (dont optimize prematurely, simple and correct)"
   ]
  },
  {
   "cell_type": "code",
   "execution_count": null,
   "metadata": {},
   "outputs": [],
   "source": [
    "#second date shouldnt be before first date (defensive programming)\n",
    "\n",
    "daysOfMonths = [31, 28, 31, 30, 31, 30, 31, 31, 30, 31, 30, 31]\n",
    "\n",
    "def isLeapYear(year):\n",
    "    \n",
    "    \n",
    "    \n",
    "def daysBetweenDates(y1, m1, d1, y2, m2, d2):\n",
    "    #need checks to determine second date isnt before the first\n",
    "    #need checks to make sure the day doesnt go beyond the month\n",
    "    #m1\n",
    "    #switch statement \n",
    "    # 1 = daysOfMonths[0]\n",
    "    birthMonth\n",
    "\n",
    "    #m2\n",
    "    #switch statement \n",
    "    # 5 = daysOfMonths[5]\n",
    "    currentMonth\n",
    "    if y2-y1 == 0:\n",
    "        days = (daysOfMonths[0] - d1) + daysOfMonths[0] + daysOfMonths[0] + daysOfMonths[0] + (daysOfMonths[0] - d2)\n",
    "    elif y2-y1 >= 1:\n",
    "        \n",
    "    return days\n",
    "    \n",
    "def nextDay(year, month, day):\n",
    "    if day == 30:\n",
    "        month += month\n",
    "        day = 1\n",
    "    elif month == 12 & day == 30:\n",
    "        year += year\n",
    "        month = 1\n",
    "        day = 1\n",
    "    else:\n",
    "        day += day\n",
    "    return year, month, day"
   ]
  },
  {
   "cell_type": "code",
   "execution_count": null,
   "metadata": {},
   "outputs": [],
   "source": [
    "#Solution for nextDay()\n",
    "def nextDay(year, month, day):\n",
    "    \"\"\" Warning: this version assumes every month has 30 days\"\"\"\n",
    "    if day < 30:\n",
    "        return year, month, day + 1\n",
    "    else:\n",
    "        if month < 12:\n",
    "            return year, month + 1, 1\n",
    "        else:\n",
    "            return year + 1, 1, 1"
   ]
  },
  {
   "cell_type": "code",
   "execution_count": 1,
   "metadata": {},
   "outputs": [
    {
     "ename": "SyntaxError",
     "evalue": "incomplete input (2841889809.py, line 2)",
     "output_type": "error",
     "traceback": [
      "\u001b[1;36m  Cell \u001b[1;32mIn[1], line 2\u001b[1;36m\u001b[0m\n\u001b[1;33m    while y1 != y2 & m1 != m2 & d1 != d2:\u001b[0m\n\u001b[1;37m                                         ^\u001b[0m\n\u001b[1;31mSyntaxError\u001b[0m\u001b[1;31m:\u001b[0m incomplete input\n"
     ]
    }
   ],
   "source": [
    "\"\"\" def checkDatesAreMatching(y1, m1, d1, y2, m2, d2):\n",
    "    if y1 == y2 & m1 == m2 & d1 == d2:\n",
    "        return True\n",
    "    else:\n",
    "        return False \"\"\"\n",
    "        \n",
    "def dateIsBefore(y1, m1, d1, y2, m2, d2):\n",
    "    \"\"\"Returns True if year1-month1-day1 is before year2-month2-day2. Otherwise, returns False.\"\"\"\n",
    "    if y1 < y2:\n",
    "        return True\n",
    "    if y1 == y2:\n",
    "        if m1 < m2:\n",
    "            return True\n",
    "        if m1 == m2:\n",
    "            return d1 < d2\n",
    "    return False      \n",
    "\n",
    "def daysBetweenDates(y1, m1, d1, y2, m2, d2):\n",
    "    assert not dateIsBefore(y2, m2, d2, y1, m1, d1) #assertion\n",
    "    days = 0\n",
    "    while dateIsBefore(y1, m1, d1, y2, m2, d2):\n",
    "        y1, m1, d1 = nextDay(y1, m1, d1)\n",
    "        days += 1\n",
    "    return days\n",
    "    "
   ]
  },
  {
   "cell_type": "code",
   "execution_count": null,
   "metadata": {},
   "outputs": [],
   "source": []
  }
 ],
 "metadata": {
  "kernelspec": {
   "display_name": "Python 3",
   "language": "python",
   "name": "python3"
  },
  "language_info": {
   "codemirror_mode": {
    "name": "ipython",
    "version": 3
   },
   "file_extension": ".py",
   "mimetype": "text/x-python",
   "name": "python",
   "nbconvert_exporter": "python",
   "pygments_lexer": "ipython3",
   "version": "3.10.5"
  }
 },
 "nbformat": 4,
 "nbformat_minor": 2
}

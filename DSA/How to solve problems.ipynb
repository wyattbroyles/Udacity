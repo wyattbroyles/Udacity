{
 "cells": [
  {
   "cell_type": "markdown",
   "metadata": {},
   "source": [
    "Fist step is understanding the problem\n",
    "Searching Google is great if its not for a practice problem that you are wanting to learn from\n",
    "\n",
    "possible inputs (set)\n",
    "relationship between inputs -> desired outputs\n",
    "\n",
    "0. Dont panic\n",
    "1. What are the inputs?\n",
    "2. What are the outputs?\n",
    "3. work out examples, understand the relationship between input and output\n",
    "4. Simple mechanical solution (dont optimize prematurely, simple and correct)\n",
    "5. Develop incrementally and test as we go"
   ]
  },
  {
   "cell_type": "code",
   "execution_count": null,
   "metadata": {},
   "outputs": [],
   "source": [
    "#second date shouldnt be before first date (defensive programming)\n",
    "\n",
    "\n",
    "#need checks to determine second date isnt before the first\n",
    "#need checks to make sure the day doesnt go beyond the month\n",
    "\n",
    "#My solution for nextDay\n",
    "def nextDay(year, month, day):\n",
    "    if day == 30:\n",
    "        month += month\n",
    "        day = 1\n",
    "    elif month == 12 & day == 30:\n",
    "        year += year\n",
    "        month = 1\n",
    "        day = 1\n",
    "    else:\n",
    "        day += day\n",
    "    return year, month, day"
   ]
  },
  {
   "cell_type": "code",
   "execution_count": null,
   "metadata": {},
   "outputs": [],
   "source": [
    "#Solution for nextDay()\n",
    "def nextDay(year, month, day):\n",
    "    \"\"\" Warning: this version assumes every month has 30 days\"\"\"\n",
    "    if day < 30:\n",
    "        return year, month, day + 1\n",
    "    else:\n",
    "        if month < 12:\n",
    "            return year, month + 1, 1\n",
    "        else:\n",
    "            return year + 1, 1, 1"
   ]
  },
  {
   "cell_type": "code",
   "execution_count": 19,
   "metadata": {},
   "outputs": [],
   "source": [
    "\"\"\" def checkDatesAreMatching(y1, m1, d1, y2, m2, d2):\n",
    "    if y1 == y2 & m1 == m2 & d1 == d2:\n",
    "        return True\n",
    "    else:\n",
    "        return False \"\"\"\n",
    "        \n",
    "def dateIsBefore(y1, m1, d1, y2, m2, d2):\n",
    "    \"\"\"Returns True if year1-month1-day1 is before year2-month2-day2. Otherwise, returns False.\"\"\"\n",
    "    if y1 < y2:\n",
    "        return True\n",
    "    if y1 == y2:\n",
    "        if m1 < m2:\n",
    "            return True\n",
    "        if m1 == m2:\n",
    "            return d1 < d2\n",
    "    return False      \n",
    "\n",
    "def daysBetweenDates(y1, m1, d1, y2, m2, d2):\n",
    "    assert not dateIsBefore(y2, m2, d2, y1, m1, d1) #assertion\n",
    "    days = 0\n",
    "    while dateIsBefore(y1, m1, d1, y2, m2, d2):\n",
    "        y1, m1, d1 = nextDay(y1, m1, d1)\n",
    "        days += 1\n",
    "    return days\n",
    "    "
   ]
  },
  {
   "cell_type": "code",
   "execution_count": 18,
   "metadata": {},
   "outputs": [
    {
     "name": "stdout",
     "output_type": "stream",
     "text": [
      "Test finished\n",
      "None\n"
     ]
    }
   ],
   "source": [
    "def test():\n",
    "    # tests with 30-days months!\n",
    "    assert daysBetweenDates(2013, 1, 1, 2013, 1, 1) == 0\n",
    "    assert daysBetweenDates(2013, 1, 1, 2013, 1, 2) == 1\n",
    "    assert nextDay(2013, 1, 1) == (2013, 1, 2)\n",
    "    assert nextDay(2013, 4, 30) == (2013, 5, 1)\n",
    "    assert nextDay(2013, 12, 31) == (2014, 1, 1)\n",
    "\n",
    "    assert nextDay(2013, 2, 28) == (2013, 3, 1)\n",
    "    assert nextDay(2013, 9, 30) == (2013, 10, 1)\n",
    "    assert daysBetweenDates(2013, 1, 1, 2014, 1, 1) == 365\n",
    "\n",
    "    assert isLeapYear(2000) == True\n",
    "    assert isLeapYear(2012) == True\n",
    "    assert isLeapYear(2024) == True\n",
    "    assert isLeapYear(2013) == False\n",
    "    assert nextDay(2012, 2, 28) == (2012, 2, 29)\n",
    "    assert daysBetweenDates(2012, 1, 1, 2013, 1, 1) == 366\n",
    "    assert daysBetweenDates(2012, 1, 24, 2012, 6, 29) == 157\n",
    "    print (\"Test finished\")\n",
    "\n",
    "def daysBetweenDates(y1, m1, d1, y2, m2, d2):\n",
    "    assert not dateIsBefore(y2, m2, d2, y1, m1, d1) #assertion\n",
    "    days = 0\n",
    "    while dateIsBefore(y1, m1, d1, y2, m2, d2):\n",
    "        y1, m1, d1 = nextDay(y1, m1, d1)\n",
    "        days += 1\n",
    "    return days\n",
    "\n",
    "def dateIsBefore(y1, m1, d1, y2, m2, d2):\n",
    "    \"\"\"Returns True if year1-month1-day1 is before year2-month2-day2. Otherwise, returns False.\"\"\"\n",
    "    if y1 < y2:\n",
    "        return True\n",
    "    if y1 == y2:\n",
    "        if m1 < m2:\n",
    "            return True\n",
    "        if m1 == m2:\n",
    "            return d1 < d2\n",
    "    return False      \n",
    "\n",
    "def nextDay(year, month, day):\n",
    "    \"\"\" Warning: this version assumes every month has 30 days\"\"\"\n",
    "    if day < daysInMonth(year, month):\n",
    "        return year, month, day + 1\n",
    "    else:\n",
    "        if month < 12:\n",
    "            return year, month + 1, 1\n",
    "        else:\n",
    "            return year + 1, 1, 1\n",
    "        \n",
    "def daysInMonth(year, month):\n",
    "    if month == 1 or month == 3 or month == 5 or month == 7 or month == 8 or month == 10 or month == 12:\n",
    "        return 31\n",
    "    else:\n",
    "        if month == 2:\n",
    "            if isLeapYear(year):\n",
    "                return 29\n",
    "            else:\n",
    "                return 28\n",
    "        else:\n",
    "            return 30\n",
    "        \n",
    "def isLeapYear(year):\n",
    "    if year % 400 == 0:\n",
    "        return True\n",
    "    if year % 100 == 0:\n",
    "        return False\n",
    "    if year % 4 == 0:\n",
    "        return True\n",
    "    return False\n",
    "        \n",
    "print(test())"
   ]
  },
  {
   "cell_type": "markdown",
   "metadata": {},
   "source": [
    "Efficiency of a program is based on the trade-off between space and time\n",
    "Algorithm - series of steps to solve a problem\n"
   ]
  }
 ],
 "metadata": {
  "kernelspec": {
   "display_name": "Python 3",
   "language": "python",
   "name": "python3"
  },
  "language_info": {
   "codemirror_mode": {
    "name": "ipython",
    "version": 3
   },
   "file_extension": ".py",
   "mimetype": "text/x-python",
   "name": "python",
   "nbconvert_exporter": "python",
   "pygments_lexer": "ipython3",
   "version": "3.10.5"
  }
 },
 "nbformat": 4,
 "nbformat_minor": 2
}

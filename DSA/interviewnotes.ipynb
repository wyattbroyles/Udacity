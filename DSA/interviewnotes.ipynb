{
 "cells": [
  {
   "cell_type": "markdown",
   "metadata": {},
   "source": [
    "# Technical Interviews\n",
    "7 Steps\n",
    "1. Clarifying the question\n",
    "2. Generating inputs and outputs\n",
    "3. generating test cases\n",
    "4. Brainstorming\n",
    "5. Runtime Analysis\n",
    "6. Coding\n",
    "7. Debugging\n"
   ]
  },
  {
   "cell_type": "markdown",
   "metadata": {},
   "source": [
    "## Clarifying the question\n",
    "- walk through problem\n",
    "- ask questions\n",
    "\n",
    "this allows the interviewee to identify the problem exactly and not waste time trying to code a solution that doesnt solve the problem"
   ]
  },
  {
   "cell_type": "markdown",
   "metadata": {},
   "source": [
    "## Confirming the inputs\n",
    "- what are you taking in? (input(s))\n",
    "- what are we returning? (output)"
   ]
  },
  {
   "cell_type": "markdown",
   "metadata": {},
   "source": [
    "## Test cases\n",
    "- thinking about edge cases and what would be considered valid input"
   ]
  },
  {
   "cell_type": "markdown",
   "metadata": {},
   "source": [
    "## Brainstorming\n",
    "- clear communication with interviewer (they are on your side often times)\n",
    "- brainstorm algorithms and datastructures to find the ones that fit your problem"
   ]
  },
  {
   "cell_type": "markdown",
   "metadata": {},
   "source": [
    "## Runtime analysis\n",
    "- talk through Big-O for runtime \n",
    "- decide if solution is optimal for solving the problem and for the runtime"
   ]
  },
  {
   "cell_type": "markdown",
   "metadata": {
    "vscode": {
     "languageId": "plaintext"
    }
   },
   "source": [
    "## Coding\n",
    "- talk about why you are writing specific code and dont just read the code word for word as you are coding\n",
    "\n"
   ]
  },
  {
   "cell_type": "markdown",
   "metadata": {},
   "source": [
    "## Debugging\n",
    "- check for errors\n",
    "- talk through test cases to see if they work as they should"
   ]
  }
 ],
 "metadata": {
  "kernelspec": {
   "display_name": ".venv",
   "language": "python",
   "name": "python3"
  },
  "language_info": {
   "codemirror_mode": {
    "name": "ipython",
    "version": 3
   },
   "file_extension": ".py",
   "mimetype": "text/x-python",
   "name": "python",
   "nbconvert_exporter": "python",
   "pygments_lexer": "ipython3",
   "version": "3.12.6"
  }
 },
 "nbformat": 4,
 "nbformat_minor": 2
}
